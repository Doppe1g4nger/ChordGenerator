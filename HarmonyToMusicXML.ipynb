{
 "cells": [
  {
   "cell_type": "code",
   "execution_count": 6,
   "metadata": {},
   "outputs": [
    {
     "name": "stdout",
     "output_type": "stream",
     "text": [
      "Input file or directory of files to convert from cT harmony format to musicXMLC:\\Users\\Danie\\PycharmProjects\\ChordGenerator\\data\\rs200_harmony\\the_weight_tdc.har\n"
     ]
    }
   ],
   "source": [
    "ct_harmony_fp = input(\"Input file or directory of files to convert from cT harmony format to musicXML\")\n",
    "import os\n",
    "if os.path.isdir(ct_harmony_fp):\n",
    "    file_path_list = [os.path.join(ct_harmony_fp, path) for path in os.listdir(ct_harmony_fp)]\n",
    "else:\n",
    "    file_path_list = [ct_harmony_fp]"
   ]
  },
  {
   "cell_type": "code",
   "execution_count": 7,
   "metadata": {
    "scrolled": false
   },
   "outputs": [],
   "source": [
    "import music21\n",
    "import re\n",
    "\n",
    "def convert_to_musicxml(harmony_file, transpose_key=None):\n",
    "    with open(harmony_file) as f_in:\n",
    "        song_text = f_in.read()\n",
    "        \n",
    "    if transpose_key:\n",
    "        song_text = re.sub(r'\\[([A-G]|[a-g])[#b]?\\]', '['+ transpose_key + ']', song_text)\n",
    "    \n",
    "    example_song = music21.romanText.clercqTemperley.CTSong(song_text)\n",
    "    \n",
    "    score = example_song.toScore()\n",
    "    \n",
    "    GEX = music21.musicxml.m21ToXml.GeneralObjectExporter(score)\n",
    "    \n",
    "    out = GEX.parse()\n",
    "    return out.decode('utf-8').strip()\n",
    "    \n",
    "    "
   ]
  },
  {
   "cell_type": "code",
   "execution_count": 12,
   "metadata": {},
   "outputs": [
    {
     "name": "stdout",
     "output_type": "stream",
     "text": [
      "Input the directory to save the generated musicxml files: C:\\Users\\Danie\\PycharmProjects\\ChordGenerator\\data\\rs200_harmony_transposed_musicxml\n"
     ]
    }
   ],
   "source": [
    "save_dir = input(\"Input the directory to save the generated musicxml files: \")\n",
    "if not os.path.exists(save_dir):\n",
    "    os.mkdir(save_dir)"
   ]
  },
  {
   "cell_type": "code",
   "execution_count": 13,
   "metadata": {},
   "outputs": [
    {
     "name": "stdout",
     "output_type": "stream",
     "text": [
      "Input key you would like to convert to (Hit enter to use the original key)C\n"
     ]
    }
   ],
   "source": [
    "key_to_convert = input(\"Input key you would like to convert to (Hit enter to use the original key)\").strip()"
   ]
  },
  {
   "cell_type": "code",
   "execution_count": 14,
   "metadata": {
    "scrolled": false
   },
   "outputs": [
    {
     "name": "stdout",
     "output_type": "stream",
     "text": [
      "C:\\Users\\Danie\\PycharmProjects\\ChordGenerator\\data\\rs200_harmony\\the_weight_tdc.har\n"
     ]
    }
   ],
   "source": [
    "for file in file_path_list:\n",
    "    print(file)\n",
    "    musicxml = convert_to_musicxml(file, key_to_convert)\n",
    "    \n",
    "    out_file_name = os.path.basename(file).split(\".\")[0] + \".musicxml\"\n",
    "    \n",
    "    with open(os.path.join(save_dir, out_file_name), \"w\") as outfile:\n",
    "        outfile.write(musicxml)"
   ]
  }
 ],
 "metadata": {
  "kernelspec": {
   "display_name": "Python 3",
   "language": "python",
   "name": "python3"
  },
  "language_info": {
   "codemirror_mode": {
    "name": "ipython",
    "version": 3
   },
   "file_extension": ".py",
   "mimetype": "text/x-python",
   "name": "python",
   "nbconvert_exporter": "python",
   "pygments_lexer": "ipython3",
   "version": "3.7.3"
  }
 },
 "nbformat": 4,
 "nbformat_minor": 2
}
